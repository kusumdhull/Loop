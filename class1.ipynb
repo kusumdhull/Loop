{
  "nbformat": 4,
  "nbformat_minor": 0,
  "metadata": {
    "colab": {
      "provenance": [],
      "toc_visible": true,
      "authorship_tag": "ABX9TyNm7g2do+DcdsUr5o+0aE9h",
      "include_colab_link": true
    },
    "kernelspec": {
      "name": "python3",
      "display_name": "Python 3"
    },
    "language_info": {
      "name": "python"
    }
  },
  "cells": [
    {
      "cell_type": "markdown",
      "metadata": {
        "id": "view-in-github",
        "colab_type": "text"
      },
      "source": [
        "<a href=\"https://colab.research.google.com/github/kusumdhull/Loop/blob/main/class1.ipynb\" target=\"_parent\"><img src=\"https://colab.research.google.com/assets/colab-badge.svg\" alt=\"Open In Colab\"/></a>"
      ]
    },
    {
      "cell_type": "code",
      "execution_count": 2,
      "metadata": {
        "id": "ZubZIVTsiFcW"
      },
      "outputs": [],
      "source": []
    },
    {
      "cell_type": "code",
      "source": [
        "Cels=input(\"Please enter temperature in Celsius: \")\n",
        "Farh=int(Cels)*(9/5)+32\n",
        "print(Cels,\"Degree Celsius in Fahrenheit is\",Farh,\"Degrees\")"
      ],
      "metadata": {
        "colab": {
          "base_uri": "https://localhost:8080/"
        },
        "id": "vAJ9jEvTniR6",
        "outputId": "92f81db4-965f-4db1-8343-5b90f9b6a7b7"
      },
      "execution_count": null,
      "outputs": [
        {
          "output_type": "stream",
          "name": "stdout",
          "text": [
            "Please enter temperature in Celsius: 34\n",
            "34 Degree Celsius in Fahrenheit is 93.2 Degrees\n"
          ]
        }
      ]
    }
  ]
}