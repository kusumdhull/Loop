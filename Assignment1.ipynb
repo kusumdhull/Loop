{
  "nbformat": 4,
  "nbformat_minor": 0,
  "metadata": {
    "colab": {
      "provenance": [],
      "authorship_tag": "ABX9TyOORJUIddokJVAyK2HiNeYt",
      "include_colab_link": true
    },
    "kernelspec": {
      "name": "python3",
      "display_name": "Python 3"
    },
    "language_info": {
      "name": "python"
    }
  },
  "cells": [
    {
      "cell_type": "markdown",
      "metadata": {
        "id": "view-in-github",
        "colab_type": "text"
      },
      "source": [
        "<a href=\"https://colab.research.google.com/github/kusumdhull/Loop/blob/main/Assignment1.ipynb\" target=\"_parent\"><img src=\"https://colab.research.google.com/assets/colab-badge.svg\" alt=\"Open In Colab\"/></a>"
      ]
    },
    {
      "cell_type": "code",
      "execution_count": null,
      "metadata": {
        "colab": {
          "base_uri": "https://localhost:8080/"
        },
        "id": "23VkvACosf0B",
        "outputId": "f2c62520-9adf-4ddd-826a-b32f14ae68b3"
      },
      "outputs": [
        {
          "output_type": "stream",
          "name": "stdout",
          "text": [
            "enter the year 2000\n",
            "yes, 2000 is a leap year\n"
          ]
        }
      ],
      "source": [
        "# program to check if entered year is leap or not\n",
        "year=int(input(\"enter the year \"))\n",
        "\n",
        "def is_leap_year(year):\n",
        "  if ( year % 4==0 and year % 100 != 0) or (year % 400 ==0):  #not a century year so by 100 also\n",
        "   return True\n",
        "  else:\n",
        "   return False\n",
        "\n",
        "if is_leap_year(year):\n",
        "     print(f\"yes, {year} is a leap year\")\n",
        "else:\n",
        "     print(f\"No, {year} is not leap year\")"
      ]
    },
    {
      "cell_type": "code",
      "source": [
        "#program to convert height from feet to inches\n",
        "\n",
        "height_feet=float(input(\"Enter height in feet\"))\n",
        "height_inches=(height_feet*12)\n",
        "height_centimeters= (height_feet*2.54)\n",
        "height_inches=f\"height in inches is : {height_inches}\"\n",
        "print(height_inches)\n",
        "height_centimeters=f\"height in centimeters: {height_centimeters}\"\n",
        "print(height_centimeters)\n"
      ],
      "metadata": {
        "id": "XAeNvAhdojNd",
        "colab": {
          "base_uri": "https://localhost:8080/"
        },
        "outputId": "ce17adc3-3079-4e97-896e-3e9e7061e2bc"
      },
      "execution_count": null,
      "outputs": [
        {
          "output_type": "stream",
          "name": "stdout",
          "text": [
            "Enter height in feet5.2\n",
            "height in inches is : 62.400000000000006\n",
            "height in centimeters: 13.208\n"
          ]
        }
      ]
    }
  ]
}