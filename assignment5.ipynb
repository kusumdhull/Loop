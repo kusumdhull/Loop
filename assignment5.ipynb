{
  "nbformat": 4,
  "nbformat_minor": 0,
  "metadata": {
    "colab": {
      "provenance": [],
      "authorship_tag": "ABX9TyPUdYcnmb0G9Af9CyEb/+mZ",
      "include_colab_link": true
    },
    "kernelspec": {
      "name": "python3",
      "display_name": "Python 3"
    },
    "language_info": {
      "name": "python"
    }
  },
  "cells": [
    {
      "cell_type": "markdown",
      "metadata": {
        "id": "view-in-github",
        "colab_type": "text"
      },
      "source": [
        "<a href=\"https://colab.research.google.com/github/kusumdhull/Loop/blob/main/assignment5.ipynb\" target=\"_parent\"><img src=\"https://colab.research.google.com/assets/colab-badge.svg\" alt=\"Open In Colab\"/></a>"
      ]
    },
    {
      "cell_type": "code",
      "execution_count": null,
      "metadata": {
        "colab": {
          "base_uri": "https://localhost:8080/"
        },
        "id": "dQNIdABiywCr",
        "outputId": "17e573a8-8a8f-41c2-c39d-efcf71289ed3"
      },
      "outputs": [
        {
          "output_type": "stream",
          "name": "stdout",
          "text": [
            "enter the number until which you want to print your fibonacci series 10\n",
            "0\n",
            "1\n",
            "1\n",
            "2\n",
            "3\n",
            "5\n",
            "8\n",
            "13\n",
            "21\n",
            "34\n"
          ]
        }
      ],
      "source": [
        "#print fibonacci series\n",
        "def fibo(n):\n",
        "    a=0\n",
        "    b=1\n",
        "    count=0\n",
        "    while(count<n):\n",
        "        print(a)\n",
        "        sum=a+b\n",
        "        a=b\n",
        "        b=sum\n",
        "        count=count+1\n",
        "\n",
        "n= int(input(\"enter the number until which you want to print your fibonacci series \"))\n",
        "if(n<=0):\n",
        "    print(\"enter a number greater than zero \")\n",
        "else:\n",
        "    fibo(n)\n"
      ]
    }
  ]
}